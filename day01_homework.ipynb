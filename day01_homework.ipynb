{
 "cells": [
  {
   "cell_type": "markdown",
   "metadata": {
    "collapsed": false
   },
   "source": [
    "# 作业\n",
    "\n",
    "更换TokenEmbedding预训练模型，使用VisualDL查看相应的TokenEmbedding可视化效果，并尝试更换后的TokenEmbedding计算句对语义相似度。\n",
    "本作业详细步骤，可参考[Day01作业教程](https://github.com/PaddlePaddle/PaddleNLP/tree/develop/education/day01.md)，记得star PaddleNLP，收藏起来，随时跟进最新功能噢。\n",
    "\n",
    "**作业结果提交**：\n",
    "1. 截图提交可视化结果（图片注明作业可视化结果）。\n",
    "2. 通篇执行每段代码，并保留执行结果。"
   ]
  },
  {
   "cell_type": "markdown",
   "metadata": {
    "collapsed": false
   },
   "source": [
    "# PaddleNLP词向量应用展示\n",
    "\n",
    "6.7日NLP直播打卡课开始啦\n",
    "\n",
    "**[直播链接请戳这里，每晚20:00-21:30👈](http://live.bilibili.com/21689802)**\n",
    "\n",
    "**[课程地址请戳这里👈](https://aistudio.baidu.com/aistudio/course/introduce/24177)**\n",
    "\n",
    "欢迎来课程**QQ群**（群号:618354318）交流吧~~\n",
    "\n",
    "\n",
    "词向量（Word embedding），即把词语表示成实数向量。“好”的词向量能体现词语直接的相近关系。词向量已经被证明可以提高NLP任务的性能，例如语法分析和情感分析。\n",
    "\n",
    "<p align=\"center\">\n",
    "<img src=\"https://ai-studio-static-online.cdn.bcebos.com/54878855b1df42f9ab50b280d76906b1e0175f280b0f4a2193a542c72634a9bf\" width=\"60%\" height=\"50%\"> <br />\n",
    "</p>\n",
    "<br><center>图1：词向量示意图</center></br>\n",
    "\n",
    "PaddleNLP已预置多个公开的预训练Embedding，您可以通过使用`paddlenlp.embeddings.TokenEmbedding`接口加载预训练Embedding，从而提升训练效果。本篇教程将依次介绍`paddlenlp.embeddings.TokenEmbedding`的初始化和文本表示效果，并通过文本分类训练的例子展示其对训练提升的效果。"
   ]
  },
  {
   "cell_type": "code",
   "execution_count": 4,
   "metadata": {
    "collapsed": false
   },
   "outputs": [],
   "source": [
    "!pip install --upgrade paddlenlp -i https://pypi.org/simple"
   ]
  },
  {
   "cell_type": "markdown",
   "metadata": {
    "collapsed": false
   },
   "source": [
    "## 加载TokenEmbedding\n",
    "\n",
    "`TokenEmbedding()`参数\n",
    "- `embedding_name`\n",
    "将模型名称以参数形式传入TokenEmbedding，加载对应的模型。默认为`w2v.baidu_encyclopedia.target.word-word.dim300`的词向量。\n",
    "- `unknown_token`\n",
    "未知token的表示，默认为[UNK]。\n",
    "- `unknown_token_vector`\n",
    "未知token的向量表示，默认生成和embedding维数一致，数值均值为0的正态分布向量。\n",
    "- `extended_vocab_path`\n",
    "扩展词汇列表文件路径，词表格式为一行一个词。如引入扩展词汇列表，trainable=True。\n",
    "- `trainable`\n",
    "Embedding层是否可被训练。True表示Embedding可以更新参数，False为不可更新。默认为True。"
   ]
  },
  {
   "cell_type": "code",
   "execution_count": 6,
   "metadata": {
    "collapsed": false
   },
   "outputs": [
    {
     "name": "stderr",
     "output_type": "stream",
     "text": [
      "100%|██████████| 694501/694501 [00:15<00:00, 45388.87it/s]\n",
      "[2021-06-09 08:39:50,446] [    INFO] - Loading token embedding...\n",
      "[2021-06-09 08:40:02,324] [    INFO] - Finish loading embedding vector.\n",
      "[2021-06-09 08:40:02,327] [    INFO] - Token Embedding info:             \n",
      "Unknown index: 635956             \n",
      "Unknown token: [UNK]             \n",
      "Padding index: 635957             \n",
      "Padding token: [PAD]             \n",
      "Shape :[635958, 300]\n"
     ]
    },
    {
     "name": "stdout",
     "output_type": "stream",
     "text": [
      "Object   type: TokenEmbedding(635958, 300, padding_idx=635957, sparse=False)             \n",
      "Unknown index: 635956             \n",
      "Unknown token: [UNK]             \n",
      "Padding index: 635957             \n",
      "Padding token: [PAD]             \n",
      "Parameter containing:\n",
      "Tensor(shape=[635958, 300], dtype=float32, place=CUDAPlace(0), stop_gradient=False,\n",
      "       [[ 0.06914700, -0.03061700, -0.46046701, ...,  0.17362200,  0.17480500,  0.13477001],\n",
      "        [ 0.18877999, -0.20182900, -0.44699499, ...,  0.19060200, -0.05762800,  0.13242100],\n",
      "        [ 0.29708400, -0.12021700, -0.43578801, ...,  0.03965300,  0.16797800,  0.07208600],\n",
      "        ...,\n",
      "        [ 0.00379200,  0.00457900, -0.01335100, ...,  0.00058000, -0.00286900,  0.00133000],\n",
      "        [ 0.03445308,  0.00193474,  0.01655984, ..., -0.00170783,  0.00595348,  0.02769692],\n",
      "        [ 0.        ,  0.        ,  0.        , ...,  0.        ,  0.        ,  0.        ]])\n"
     ]
    }
   ],
   "source": [
    "from paddlenlp.embeddings import TokenEmbedding\n",
    "\n",
    "# 初始化TokenEmbedding， 预训练embedding未下载时会自动下载并加载数据\n",
    "# 需要更换所选的词向量\n",
    "token_embedding = TokenEmbedding(embedding_name=\"w2v.baidu_encyclopedia.target.word-wordLR.dim300\")\n",
    "\n",
    "# 查看token_embedding详情\n",
    "print(token_embedding)"
   ]
  },
  {
   "cell_type": "markdown",
   "metadata": {
    "collapsed": false
   },
   "source": [
    "### 认识一下Embedding\n",
    "**`TokenEmbedding.search()`**\n",
    "获得指定词汇的词向量。"
   ]
  },
  {
   "cell_type": "code",
   "execution_count": 7,
   "metadata": {
    "collapsed": false
   },
   "outputs": [
    {
     "name": "stderr",
     "output_type": "stream",
     "text": [
      "/opt/conda/envs/python35-paddle120-env/lib/python3.7/site-packages/paddle/tensor/creation.py:125: DeprecationWarning: `np.object` is a deprecated alias for the builtin `object`. To silence this warning, use `object` by itself. Doing this will not modify any behavior and is safe. \n",
      "Deprecated in NumPy 1.20; for more details and guidance: https://numpy.org/devdocs/release/1.20.0-notes.html#deprecations\n",
      "  if data.dtype == np.object:\n"
     ]
    },
    {
     "name": "stdout",
     "output_type": "stream",
     "text": [
      "[[-4.129370e-01  1.441310e-01 -7.253950e-01  1.606360e-01  4.804100e-01\n",
      "  -4.437910e-01  4.423780e-01  5.864450e-01 -6.240060e-01  2.808700e-02\n",
      "   8.651400e-02  7.702900e-02 -5.051340e-01  1.536830e-01  1.987100e-01\n",
      "   6.969000e-03  2.103590e-01  2.119790e-01 -3.521200e-02 -6.358450e-01\n",
      "  -2.146920e-01 -1.041850e-01 -4.253590e-01 -2.875860e-01 -1.186510e-01\n",
      "  -1.037440e-01  7.270040e-01  1.575020e-01 -4.010260e-01 -5.200700e-02\n",
      "   5.376060e-01  2.657760e-01 -7.840000e-03  3.717530e-01 -2.078880e-01\n",
      "  -2.289560e-01 -3.852210e-01  3.117490e-01 -1.293670e-01 -2.482890e-01\n",
      "  -4.031470e-01 -1.694150e-01 -2.144200e-01 -4.925870e-01  1.435160e-01\n",
      "   2.925870e-01 -2.429450e-01 -2.654900e-02  1.351690e-01  1.353020e-01\n",
      "   1.358110e-01  5.963800e-02  1.489280e-01  1.215060e-01  3.177900e-02\n",
      "   1.786370e-01  2.615910e-01  1.968880e-01  1.137060e-01  3.085060e-01\n",
      "  -3.951110e-01 -2.142470e-01 -2.753100e-02  2.409000e-02 -1.230550e-01\n",
      "  -3.453800e-02  2.338940e-01 -8.668700e-02 -5.431000e-02  2.244790e-01\n",
      "   1.697870e-01  2.202730e-01 -1.091080e-01 -3.935030e-01  2.632420e-01\n",
      "   2.398800e-01 -4.943490e-01 -3.230310e-01  4.814600e-02 -1.044450e-01\n",
      "   8.261210e-01 -1.820140e-01  3.288150e-01  3.863200e-01  9.964700e-02\n",
      "   9.538600e-02  4.533070e-01 -3.539460e-01  3.022700e-01 -1.832930e-01\n",
      "  -3.579950e-01  1.339680e-01  4.595810e-01 -4.534480e-01  2.906000e-01\n",
      "   3.214940e-01  1.063160e-01 -1.495500e-02  1.566440e-01  4.435140e-01\n",
      "  -2.005290e-01 -5.474390e-01  2.572510e-01 -7.812100e-02 -3.653900e-02\n",
      "   3.443670e-01  1.449400e-02  1.237890e-01  2.676490e-01  4.829500e-02\n",
      "   2.654070e-01  1.923550e-01  7.409800e-02  1.393960e-01 -1.599620e-01\n",
      "   1.091151e+00  3.291400e-02  2.437160e-01 -5.727450e-01  3.497470e-01\n",
      "  -1.670300e-02  2.409010e-01  3.278960e-01 -2.969060e-01 -2.138120e-01\n",
      "   6.191940e-01  3.727450e-01  2.000710e-01 -2.417880e-01  3.379430e-01\n",
      "  -2.672820e-01 -4.269120e-01  1.800330e-01 -1.265800e-02  8.219800e-02\n",
      "  -1.177320e-01  2.157000e-03 -1.733350e-01 -2.572830e-01  2.221150e-01\n",
      "   1.815790e-01 -1.638900e-02  8.835900e-02  1.115330e-01  5.582800e-02\n",
      "  -2.099280e-01  1.377460e-01 -2.430730e-01  2.526570e-01 -1.490200e-02\n",
      "  -8.349100e-02 -4.503850e-01 -2.109740e-01  9.222100e-02 -2.703350e-01\n",
      "  -1.070300e-01  4.368530e-01  8.119500e-02  6.775400e-02  1.555480e-01\n",
      "  -2.505470e-01 -1.579750e-01 -5.319560e-01  3.758300e-01  2.357850e-01\n",
      "  -5.507890e-01 -2.991870e-01 -2.881420e-01  1.601170e-01  7.930000e-02\n",
      "  -4.370430e-01 -5.683580e-01 -3.219700e-01 -3.435300e-02 -5.598720e-01\n",
      "   3.816300e-02 -3.139540e-01 -8.008400e-02  8.836300e-02  2.952000e-01\n",
      "  -2.231720e-01  2.440000e-04  3.959230e-01 -3.521930e-01  2.847450e-01\n",
      "   1.721760e-01 -6.189000e-03  3.588710e-01  4.419320e-01 -4.810970e-01\n",
      "   1.802930e-01 -4.166870e-01 -6.841910e-01  3.745900e-01  1.058930e-01\n",
      "  -1.920070e-01 -1.037770e-01  3.208000e-01  1.878070e-01  3.962270e-01\n",
      "   1.533110e-01  2.660620e-01 -3.287240e-01 -9.466000e-03 -4.978460e-01\n",
      "   6.699730e-01  1.381100e-01 -2.233030e-01  2.013500e-02  4.760340e-01\n",
      "  -8.498500e-02  9.609200e-02  7.178800e-02 -3.687800e-01  1.093870e-01\n",
      "  -9.101700e-02 -4.108510e-01  2.027190e-01 -3.417170e-01  2.322170e-01\n",
      "   4.845820e-01  2.351360e-01 -9.759600e-02  1.132500e-02 -2.389610e-01\n",
      "  -2.929620e-01  7.501000e-02 -6.190500e-02 -2.936000e-02 -5.452100e-02\n",
      "  -3.143380e-01 -5.094720e-01 -1.054690e-01 -2.048870e-01  2.852500e-01\n",
      "   7.764000e-03 -5.382060e-01  3.283460e-01 -1.788710e-01 -4.806900e-02\n",
      "  -2.060310e-01  4.667250e-01  5.740100e-02 -1.519330e-01  2.722530e-01\n",
      "   2.809260e-01  1.133940e-01  4.714130e-01 -2.482340e-01 -5.386000e-03\n",
      "   2.842950e-01 -7.786000e-03 -2.173000e-01 -2.044190e-01  3.245170e-01\n",
      "  -1.247310e-01  1.553320e-01 -3.301450e-01  2.239100e-01 -3.227010e-01\n",
      "  -1.640080e-01  3.322650e-01  5.782600e-02  1.253450e-01 -1.169720e-01\n",
      "   5.322400e-02 -6.179400e-02  2.602660e-01  1.915370e-01  7.538240e-01\n",
      "   4.528270e-01  2.652350e-01  2.390930e-01 -1.648270e-01 -2.189870e-01\n",
      "   4.463230e-01  2.607030e-01 -2.065510e-01  5.325000e-02 -1.559360e-01\n",
      "  -4.995720e-01 -3.609680e-01  2.739900e-02 -2.435320e-01  3.999920e-01\n",
      "  -1.407210e-01  1.494030e-01 -2.012570e-01 -3.722690e-01 -1.287080e-01\n",
      "  -8.209000e-02  2.364420e-01 -4.716000e-03 -7.735000e-02 -2.974670e-01\n",
      "  -9.000000e-03  1.035260e-01  4.322110e-01 -2.004300e-01 -2.254160e-01]]\n"
     ]
    }
   ],
   "source": [
    "test_token_embedding = token_embedding.search(\"中国\")\n",
    "print(test_token_embedding)"
   ]
  },
  {
   "cell_type": "markdown",
   "metadata": {
    "collapsed": false
   },
   "source": [
    "**`TokenEmbedding.cosine_sim()`**\n",
    "计算词向量间余弦相似度，语义相近的词语余弦相似度更高，说明预训练好的词向量空间有很好的语义表示能力。"
   ]
  },
  {
   "cell_type": "code",
   "execution_count": 13,
   "metadata": {
    "collapsed": false
   },
   "outputs": [
    {
     "name": "stdout",
     "output_type": "stream",
     "text": [
      "score1: 0.69795\n",
      "score2: 0.21690908\n"
     ]
    }
   ],
   "source": [
    "score1 = token_embedding.cosine_sim(\"女孩\", \"女人\")\n",
    "score2 = token_embedding.cosine_sim(\"女孩\", \"书籍\")\n",
    "print('score1:', score1)\n",
    "print('score2:', score2)"
   ]
  },
  {
   "cell_type": "markdown",
   "metadata": {
    "collapsed": false
   },
   "source": [
    "### 词向量映射到低维空间\n",
    "\n",
    "使用深度学习可视化工具[VisualDL](https://github.com/PaddlePaddle/VisualDL)的[High Dimensional](https://github.com/PaddlePaddle/VisualDL/blob/develop/docs/components/README_CN.md#High-Dimensional--%E6%95%B0%E6%8D%AE%E9%99%8D%E7%BB%B4%E7%BB%84%E4%BB%B6)组件可以对embedding结果进行可视化展示，便于对其直观分析，步骤如下：\n",
    "\n",
    "1. 升级 VisualDL 最新版本。\n",
    "\n",
    "`pip install --upgrade visualdl`\n",
    "\n",
    "2. 创建LogWriter并将记录词向量。\n",
    "\n",
    "3. 点击左侧面板中的可视化tab，选择‘token_hidi’作为文件并启动VisualDL可视化"
   ]
  },
  {
   "cell_type": "code",
   "execution_count": 10,
   "metadata": {
    "collapsed": false
   },
   "outputs": [],
   "source": [
    "!pip install --upgrade visualdl"
   ]
  },
  {
   "cell_type": "code",
   "execution_count": 11,
   "metadata": {
    "collapsed": false
   },
   "outputs": [],
   "source": [
    "# 获取词表中前1000个单词\n",
    "labels = token_embedding.vocab.to_tokens(list(range(0, 1000)))\n",
    "# 取出这1000个单词对应的Embedding\n",
    "test_token_embedding = token_embedding.search(labels)\n",
    "\n",
    "# 引入VisualDL的LogWriter记录日志\n",
    "from visualdl import LogWriter\n",
    "\n",
    "with LogWriter(logdir='./token_hidi') as writer:\n",
    "    writer.add_embeddings(tag='test', mat=[i for i in test_token_embedding], metadata=labels)"
   ]
  },
  {
   "cell_type": "markdown",
   "metadata": {
    "collapsed": false
   },
   "source": [
    "#### 启动VisualDL查看词向量降维效果\n",
    "启动步骤：\n",
    "- 1、切换到「可视化」指定可视化日志\n",
    "- 2、日志文件选择 'token_hidi'\n",
    "- 3、点击「启动VisualDL」后点击「打开VisualDL」，选择「高维数据映射」，即可查看词表中前1000词UMAP方法下映射到三维空间的可视化结果:\n",
    "\n",
    "![](https://user-images.githubusercontent.com/48054808/120594172-1fe02b00-c473-11eb-9df1-c0206b07e948.gif)\n",
    "\n",
    "可以看出，语义相近的词在词向量空间中聚集(如数字、章节等)，说明预训练好的词向量有很好的文本表示能力。\n",
    "\n",
    "使用VisualDL除可视化embedding结果外，还可以对标量、图片、音频等进行可视化，有效提升训练调参效率。关于VisualDL更多功能和详细介绍，可参考[VisualDL使用文档](https://github.com/PaddlePaddle/VisualDL/tree/develop/docs)。"
   ]
  },
  {
   "cell_type": "markdown",
   "metadata": {
    "collapsed": false
   },
   "source": [
    "## **作业可视化结果**\n",
    "![](https://ai-studio-static-online.cdn.bcebos.com/fadde751d5ca47dabbc53ff519a0f64bea501912ac754fa7ab5adab451df7750)\n"
   ]
  },
  {
   "cell_type": "markdown",
   "metadata": {
    "collapsed": false
   },
   "source": [
    "## 基于TokenEmbedding衡量句子语义相似度\n",
    "\n",
    "在许多实际应用场景（如文档检索系统）中， 需要衡量两个句子的语义相似程度。此时我们可以使用词袋模型（Bag of Words，简称BoW）计算句子的语义向量。\n",
    "\n",
    "**首先**，将两个句子分别进行切词，并在TokenEmbedding中查找相应的单词词向量（word embdding）。\n",
    "\n",
    "**然后**，根据词袋模型，将句子的word embedding叠加作为句子向量（sentence embedding）。\n",
    "\n",
    "**最后**，计算两个句子向量的余弦相似度。\n",
    "\n",
    "### 基于TokenEmbedding的词袋模型\n",
    "\n",
    "\n",
    "使用`BoWEncoder`搭建一个BoW模型用于计算句子语义。\n",
    "\n",
    "* `paddlenlp.TokenEmbedding`组建word-embedding层\n",
    "* `paddlenlp.seq2vec.BoWEncoder`组建句子建模层\n"
   ]
  },
  {
   "cell_type": "code",
   "execution_count": 14,
   "metadata": {
    "collapsed": false
   },
   "outputs": [],
   "source": [
    "import paddle\n",
    "import paddle.nn as nn\n",
    "import paddlenlp\n",
    "\n",
    "\n",
    "class BoWModel(nn.Layer):\n",
    "    def __init__(self, embedder):\n",
    "        super().__init__()\n",
    "        self.embedder = embedder\n",
    "        emb_dim = self.embedder.embedding_dim\n",
    "        self.encoder = paddlenlp.seq2vec.BoWEncoder(emb_dim)\n",
    "        self.cos_sim_func = nn.CosineSimilarity(axis=-1)\n",
    "\n",
    "    def get_cos_sim(self, text_a, text_b):\n",
    "        text_a_embedding = self.forward(text_a)\n",
    "        text_b_embedding = self.forward(text_b)\n",
    "        cos_sim = self.cos_sim_func(text_a_embedding, text_b_embedding)\n",
    "        return cos_sim\n",
    "\n",
    "    def forward(self, text):\n",
    "        # Shape: (batch_size, num_tokens, embedding_dim)\n",
    "        embedded_text = self.embedder(text)\n",
    "\n",
    "        # Shape: (batch_size, embedding_dim)\n",
    "        summed = self.encoder(embedded_text)\n",
    "\n",
    "        return summed\n",
    "\n",
    "model = BoWModel(embedder=token_embedding)"
   ]
  },
  {
   "cell_type": "markdown",
   "metadata": {
    "collapsed": false
   },
   "source": [
    "### 构造Tokenizer\n",
    "使用TokenEmbedding词表构造Tokenizer。"
   ]
  },
  {
   "cell_type": "code",
   "execution_count": 15,
   "metadata": {
    "collapsed": false
   },
   "outputs": [],
   "source": [
    "from data import Tokenizer\n",
    "tokenizer = Tokenizer()\n",
    "tokenizer.set_vocab(vocab=token_embedding.vocab)"
   ]
  },
  {
   "cell_type": "markdown",
   "metadata": {
    "collapsed": false
   },
   "source": [
    "### 相似句对数据读取\n",
    "\n",
    "以提供的样例数据text_pair.txt为例，该数据文件每行包含两个句子。\n"
   ]
  },
  {
   "cell_type": "code",
   "execution_count": 16,
   "metadata": {
    "collapsed": false
   },
   "outputs": [],
   "source": [
    "text_pairs = {}\n",
    "with open(\"text_pair.txt\", \"r\", encoding=\"utf8\") as f:\n",
    "    for line in f:\n",
    "        text_a, text_b = line.strip().split(\"\\t\")\n",
    "        if text_a not in text_pairs:\n",
    "            text_pairs[text_a] = []\n",
    "        text_pairs[text_a].append(text_b)"
   ]
  },
  {
   "cell_type": "markdown",
   "metadata": {
    "collapsed": false
   },
   "source": [
    "### 查看相似语句相关度"
   ]
  },
  {
   "cell_type": "code",
   "execution_count": 17,
   "metadata": {
    "collapsed": false
   },
   "outputs": [
    {
     "name": "stdout",
     "output_type": "stream",
     "text": [
      "text_a: 多项式矩阵左共轭积对偶Sylvester共轭和数学算子完备参数解\n",
      "text_b: 多项式矩阵的左共轭积及其应用\n",
      "cosine_sim: 0.8759016394615173\n",
      "\n",
      "text_a: 多项式矩阵左共轭积对偶Sylvester共轭和数学算子完备参数解\n",
      "text_b: 退化阻尼对高维可压缩欧拉方程组经典解的影响\n",
      "cosine_sim: 0.815321147441864\n",
      "\n",
      "text_a: 多项式矩阵左共轭积对偶Sylvester共轭和数学算子完备参数解\n",
      "text_b: Burgers方程基于特征正交分解方法的数值解法研究\n",
      "cosine_sim: 0.8322332501411438\n",
      "\n",
      "text_a: 多项式矩阵左共轭积对偶Sylvester共轭和数学算子完备参数解\n",
      "text_b: 有界对称域上解析函数空间的若干性质\n",
      "cosine_sim: 0.8169602751731873\n",
      "\n",
      "text_a: 多项式矩阵左共轭积对偶Sylvester共轭和数学算子完备参数解\n",
      "text_b: 基于卷积神经网络的图像复杂度研究与应用\n",
      "cosine_sim: 0.7599578499794006\n",
      "\n",
      "text_a: 多项式矩阵左共轭积对偶Sylvester共轭和数学算子完备参数解\n",
      "text_b: Cartesian发射机中线性功率放大器的研究\n",
      "cosine_sim: 0.7654703855514526\n",
      "\n",
      "text_a: 多项式矩阵左共轭积对偶Sylvester共轭和数学算子完备参数解\n",
      "text_b: CFRP加固WF型梁侧扭屈曲的几何非线性有限元分析\n",
      "cosine_sim: 0.7787801623344421\n",
      "\n",
      "text_a: 多项式矩阵左共轭积对偶Sylvester共轭和数学算子完备参数解\n",
      "text_b: 基于线性CCD自适应成像的光刻机平台调平方法研究\n",
      "cosine_sim: 0.7568981051445007\n",
      "\n",
      "text_a: 多项式矩阵左共轭积对偶Sylvester共轭和数学算子完备参数解\n",
      "text_b: 基于变分贝叶斯理论的图像复原方法研究\n",
      "cosine_sim: 0.7199171185493469\n",
      "\n",
      "text_a: 多项式矩阵左共轭积对偶Sylvester共轭和数学算子完备参数解\n",
      "text_b: 网格资源分配中混合并行蚁群算法方式研究\n",
      "cosine_sim: 0.7061187624931335\n",
      "\n",
      "text_a: 停车信息系统路径诱导最佳路径车位占有率城市交通智能交通\n",
      "text_b: 中心式停车信息系统若干问题的研究\n",
      "cosine_sim: 0.7562193870544434\n",
      "\n",
      "text_a: 停车信息系统路径诱导最佳路径车位占有率城市交通智能交通\n",
      "text_b: 视觉导航区域交通智能车辆（CyberCar）系统研究\n",
      "cosine_sim: 0.8191900849342346\n",
      "\n",
      "text_a: 停车信息系统路径诱导最佳路径车位占有率城市交通智能交通\n",
      "text_b: 需求侧参与输电阻塞管理的模型与算法研究\n",
      "cosine_sim: 0.7511882781982422\n",
      "\n",
      "text_a: 停车信息系统路径诱导最佳路径车位占有率城市交通智能交通\n",
      "text_b: 基于云服务的智能家居系统的研究与设计\n",
      "cosine_sim: 0.7253589034080505\n",
      "\n",
      "text_a: 停车信息系统路径诱导最佳路径车位占有率城市交通智能交通\n",
      "text_b: 环境水质在线监测系统智能主节点的研究与设计\n",
      "cosine_sim: 0.772852897644043\n",
      "\n",
      "text_a: 停车信息系统路径诱导最佳路径车位占有率城市交通智能交通\n",
      "text_b: 配电网故障自动处理算法的研究及软件开发\n",
      "cosine_sim: 0.7430191040039062\n",
      "\n",
      "text_a: 停车信息系统路径诱导最佳路径车位占有率城市交通智能交通\n",
      "text_b: 基于GeoMedia的高速公路监控系统的研究与开发\n",
      "cosine_sim: 0.7540803551673889\n",
      "\n",
      "text_a: 停车信息系统路径诱导最佳路径车位占有率城市交通智能交通\n",
      "text_b: 基于Java的模块化环境空气质量自动监测系统的研究与设计\n",
      "cosine_sim: 0.7548244595527649\n",
      "\n",
      "text_a: 停车信息系统路径诱导最佳路径车位占有率城市交通智能交通\n",
      "text_b: 边检预检预录系统建设及关键技术研究\n",
      "cosine_sim: 0.7566061019897461\n",
      "\n",
      "text_a: 停车信息系统路径诱导最佳路径车位占有率城市交通智能交通\n",
      "text_b: 基于多技术的路面积水监测预警系统的设计与实现\n",
      "cosine_sim: 0.7607952356338501\n",
      "\n",
      "text_a: 服务企业企业竞争力决定因素提升策略\n",
      "text_b: 服务企业竞争力决定因素与提升策略研究\n",
      "cosine_sim: 0.9647361636161804\n",
      "\n",
      "text_a: 服务企业企业竞争力决定因素提升策略\n",
      "text_b: 提升我国分析仪器产业竞争力的技术创新战略研究\n",
      "cosine_sim: 0.8348779678344727\n",
      "\n",
      "text_a: 服务企业企业竞争力决定因素提升策略\n",
      "text_b: 国有润滑油企业市场开发策略研究\n",
      "cosine_sim: 0.8141424059867859\n",
      "\n",
      "text_a: 服务企业企业竞争力决定因素提升策略\n",
      "text_b: 基于成功要素的企业ERP实施事前评估研究\n",
      "cosine_sim: 0.8214770555496216\n",
      "\n",
      "text_a: 服务企业企业竞争力决定因素提升策略\n",
      "text_b: 环境扫描对企业竞争优势的影响研究--以电子信息行业为例\n",
      "cosine_sim: 0.8047545552253723\n",
      "\n",
      "text_a: 服务企业企业竞争力决定因素提升策略\n",
      "text_b: 浦发银行信用卡产品的营销策略研究\n",
      "cosine_sim: 0.7873134613037109\n",
      "\n",
      "text_a: 服务企业企业竞争力决定因素提升策略\n",
      "text_b: 我国出口企业的竞争战略研究\n",
      "cosine_sim: 0.7877786755561829\n",
      "\n",
      "text_a: 服务企业企业竞争力决定因素提升策略\n",
      "text_b: BMP公司供应商绩效指标体系的改进与实施\n",
      "cosine_sim: 0.807689905166626\n",
      "\n",
      "text_a: 服务企业企业竞争力决定因素提升策略\n",
      "text_b: P公司企业管理人员选拔任用体系研究\n",
      "cosine_sim: 0.7631192803382874\n",
      "\n",
      "text_a: 服务企业企业竞争力决定因素提升策略\n",
      "text_b: 高管性别结构、内部制衡与企业技术创新——基于我国创业板上市企业的实证研究\n",
      "cosine_sim: 0.7756993770599365\n",
      "\n",
      "text_a: 数字水印混沌映射版权保护序列密码小波变换\n",
      "text_b: 基于混沌映射的数字水印技术研究\n",
      "cosine_sim: 0.8649670481681824\n",
      "\n",
      "text_a: 数字水印混沌映射版权保护序列密码小波变换\n",
      "text_b: 基于卷积神经网络的图像复杂度研究与应用\n",
      "cosine_sim: 0.787440299987793\n",
      "\n",
      "text_a: 数字水印混沌映射版权保护序列密码小波变换\n",
      "text_b: 基于图像内容的关键帧检测及VLSI实现\n",
      "cosine_sim: 0.7868794798851013\n",
      "\n",
      "text_a: 数字水印混沌映射版权保护序列密码小波变换\n",
      "text_b: 基于局部特征的多光谱与全色图像融合算法研究\n",
      "cosine_sim: 0.7542685866355896\n",
      "\n",
      "text_a: 数字水印混沌映射版权保护序列密码小波变换\n",
      "text_b: 基于嵌入式系统的人脸识别算法研究及其优化\n",
      "cosine_sim: 0.7616504430770874\n",
      "\n",
      "text_a: 数字水印混沌映射版权保护序列密码小波变换\n",
      "text_b: 基于多特征融合和图割模型的遥感影像云检测算法研究\n",
      "cosine_sim: 0.7507067322731018\n",
      "\n",
      "text_a: 数字水印混沌映射版权保护序列密码小波变换\n",
      "text_b: 基于动态符号执行的模糊测试方法研究\n",
      "cosine_sim: 0.766211211681366\n",
      "\n",
      "text_a: 数字水印混沌映射版权保护序列密码小波变换\n",
      "text_b: 基于交通流增长特性的复杂网络演化建模研究\n",
      "cosine_sim: 0.7110087871551514\n",
      "\n",
      "text_a: 数字水印混沌映射版权保护序列密码小波变换\n",
      "text_b: 基于变分贝叶斯理论的图像复原方法研究\n",
      "cosine_sim: 0.7416945695877075\n",
      "\n",
      "text_a: 数字水印混沌映射版权保护序列密码小波变换\n",
      "text_b: 混沌控制和构造延迟混沌系统及应用的研究\n",
      "cosine_sim: 0.727616012096405\n",
      "\n",
      "text_a: 有限元分析汽车车架焊缝危险部位寿命预测结构强度\n",
      "text_b: 汽车车架焊接结构强度和可靠性分析\n",
      "cosine_sim: 0.9285010695457458\n",
      "\n",
      "text_a: 有限元分析汽车车架焊缝危险部位寿命预测结构强度\n",
      "text_b: 基于天线传感器的FRP-钢结构典型损伤监测方法研究\n",
      "cosine_sim: 0.8589202165603638\n",
      "\n",
      "text_a: 有限元分析汽车车架焊缝危险部位寿命预测结构强度\n",
      "text_b: 有限元强度折减法对抗滑桩加固边坡的优化分析研究\n",
      "cosine_sim: 0.8504012823104858\n",
      "\n",
      "text_a: 有限元分析汽车车架焊缝危险部位寿命预测结构强度\n",
      "text_b: 弹性地基上周期梁板的隔振性能研究\n",
      "cosine_sim: 0.8269701600074768\n",
      "\n",
      "text_a: 有限元分析汽车车架焊缝危险部位寿命预测结构强度\n",
      "text_b: SIGMA冷弯薄壁型钢构件畸变屈曲的理论研究\n",
      "cosine_sim: 0.8303146362304688\n",
      "\n",
      "text_a: 有限元分析汽车车架焊缝危险部位寿命预测结构强度\n",
      "text_b: 梁拱组合刚构桥极限承载力分析与研究\n",
      "cosine_sim: 0.8421923518180847\n",
      "\n",
      "text_a: 有限元分析汽车车架焊缝危险部位寿命预测结构强度\n",
      "text_b: CFRP加固WF型梁侧扭屈曲的几何非线性有限元分析\n",
      "cosine_sim: 0.8265292644500732\n",
      "\n",
      "text_a: 有限元分析汽车车架焊缝危险部位寿命预测结构强度\n",
      "text_b: 典型缺陷真型电容式玻璃钢套管电气特征参量测试实验研究\n",
      "cosine_sim: 0.8200149536132812\n",
      "\n",
      "text_a: 有限元分析汽车车架焊缝危险部位寿命预测结构强度\n",
      "text_b: 基于ABB机器人的结构光视觉引导焊缝跟踪技术的研究\n",
      "cosine_sim: 0.7979656457901001\n",
      "\n",
      "text_a: 有限元分析汽车车架焊缝危险部位寿命预测结构强度\n",
      "text_b: 紊流风场中大跨度桥梁非线性气动稳定性研究\n",
      "cosine_sim: 0.8238666653633118\n",
      "\n",
      "text_a: 石墨烯导电聚合物复合材料超级电容器\n",
      "text_b: 石墨烯与导电聚合物复合材料的制备以及在超级电容器方面的应用\n",
      "cosine_sim: 0.9063366055488586\n",
      "\n",
      "text_a: 石墨烯导电聚合物复合材料超级电容器\n",
      "text_b: 碳纤维布增强聚酰亚胺基复合材料的制备及其力学和摩擦学性能研究\n",
      "cosine_sim: 0.8245840072631836\n",
      "\n",
      "text_a: 石墨烯导电聚合物复合材料超级电容器\n",
      "text_b: 石墨烯/硅橡胶复合材料的制备及压阻特性研究\n",
      "cosine_sim: 0.841574490070343\n",
      "\n",
      "text_a: 石墨烯导电聚合物复合材料超级电容器\n",
      "text_b: 功能化碳纳米管在染料敏化太阳能电池对电极中的应用\n",
      "cosine_sim: 0.8023771047592163\n",
      "\n",
      "text_a: 石墨烯导电聚合物复合材料超级电容器\n",
      "text_b: 高介电常数铝阳极复合氧化膜制备技术的研究\n",
      "cosine_sim: 0.8324682116508484\n",
      "\n",
      "text_a: 石墨烯导电聚合物复合材料超级电容器\n",
      "text_b: 导电生物可降解聚酯/CNT纤维在神经再生中的研究\n",
      "cosine_sim: 0.7807544469833374\n",
      "\n",
      "text_a: 石墨烯导电聚合物复合材料超级电容器\n",
      "text_b: 二维MXene/镍基复合材料制备及其电化学性能研究\n",
      "cosine_sim: 0.7959246039390564\n",
      "\n",
      "text_a: 石墨烯导电聚合物复合材料超级电容器\n",
      "text_b: g--C3N4基复合材料的制备及其光催化性能研究\n",
      "cosine_sim: 0.8057568669319153\n",
      "\n",
      "text_a: 石墨烯导电聚合物复合材料超级电容器\n",
      "text_b: 无溶剂厚膜型环氧涂料的制备及其防腐性能的研究\n",
      "cosine_sim: 0.773919939994812\n",
      "\n",
      "text_a: 石墨烯导电聚合物复合材料超级电容器\n",
      "text_b: 并五苯分子的手性自组装和单层薄膜的结构相变\n",
      "cosine_sim: 0.7682939171791077\n",
      "\n",
      "text_a: 企业管理管理信息系统多层结构框架平台\n",
      "text_b: 基于多层结构的业务框架平台\n",
      "cosine_sim: 0.8353512287139893\n",
      "\n",
      "text_a: 企业管理管理信息系统多层结构框架平台\n",
      "text_b: 基于BPR的管理信息系统开发与应用\n",
      "cosine_sim: 0.8506068587303162\n",
      "\n",
      "text_a: 企业管理管理信息系统多层结构框架平台\n",
      "text_b: 基于BIM的MEP管线综合知识库构建与可视化研究\n",
      "cosine_sim: 0.7709634304046631\n",
      "\n",
      "text_a: 企业管理管理信息系统多层结构框架平台\n",
      "text_b: 基于J2EE的网上书店电子商务应用框架的研究和设计\n",
      "cosine_sim: 0.7512331008911133\n",
      "\n",
      "text_a: 企业管理管理信息系统多层结构框架平台\n",
      "text_b: 基于数字地球平台的中国世界遗产展示平台的设计与实现\n",
      "cosine_sim: 0.6955774426460266\n",
      "\n",
      "text_a: 企业管理管理信息系统多层结构框架平台\n",
      "text_b: 面向组件技术的综合决策支持系统及其商业应用\n",
      "cosine_sim: 0.781470775604248\n",
      "\n",
      "text_a: 企业管理管理信息系统多层结构框架平台\n",
      "text_b: 在信息管理系统（MIS）平台上进行医学科研项目管理的应用研究\n",
      "cosine_sim: 0.8193566203117371\n",
      "\n",
      "text_a: 企业管理管理信息系统多层结构框架平台\n",
      "text_b: 基于云服务的智能家居系统的研究与设计\n",
      "cosine_sim: 0.7262518405914307\n",
      "\n",
      "text_a: 企业管理管理信息系统多层结构框架平台\n",
      "text_b: 基于PPP模式的W市政道路工程风险管理研究\n",
      "cosine_sim: 0.8164578080177307\n",
      "\n",
      "text_a: 企业管理管理信息系统多层结构框架平台\n",
      "text_b: 基于TD专网移动互联系统及应用的设计与实现\n",
      "cosine_sim: 0.7477498054504395\n",
      "\n",
      "text_a: 纳米CT成像三维图像处理固体氧化物燃料电池多孔材料最优阈值算法边缘检测算法\n",
      "text_b: 纳米CT三维图像处理分析方法及其应用的研究\n",
      "cosine_sim: 0.8584222793579102\n",
      "\n",
      "text_a: 纳米CT成像三维图像处理固体氧化物燃料电池多孔材料最优阈值算法边缘检测算法\n",
      "text_b: 基于线性CCD自适应成像的光刻机平台调平方法研究\n",
      "cosine_sim: 0.8638971447944641\n",
      "\n",
      "text_a: 纳米CT成像三维图像处理固体氧化物燃料电池多孔材料最优阈值算法边缘检测算法\n",
      "text_b: 固体中缺陷的超声散射计算与测量技术研究\n",
      "cosine_sim: 0.8569227457046509\n",
      "\n",
      "text_a: 纳米CT成像三维图像处理固体氧化物燃料电池多孔材料最优阈值算法边缘检测算法\n",
      "text_b: 基于多特征融合和图割模型的遥感影像云检测算法研究\n",
      "cosine_sim: 0.8193830847740173\n",
      "\n",
      "text_a: 纳米CT成像三维图像处理固体氧化物燃料电池多孔材料最优阈值算法边缘检测算法\n",
      "text_b: 基于卷积神经网络的图像复杂度研究与应用\n",
      "cosine_sim: 0.8299036622047424\n",
      "\n",
      "text_a: 纳米CT成像三维图像处理固体氧化物燃料电池多孔材料最优阈值算法边缘检测算法\n",
      "text_b: 微纳米结构非线性静动力学分析及其应用\n",
      "cosine_sim: 0.822613000869751\n",
      "\n",
      "text_a: 纳米CT成像三维图像处理固体氧化物燃料电池多孔材料最优阈值算法边缘检测算法\n",
      "text_b: 基于碳纳米管的流体器件设计\n",
      "cosine_sim: 0.8582396507263184\n",
      "\n",
      "text_a: 纳米CT成像三维图像处理固体氧化物燃料电池多孔材料最优阈值算法边缘检测算法\n",
      "text_b: 基于局部特征的多光谱与全色图像融合算法研究\n",
      "cosine_sim: 0.8314022421836853\n",
      "\n",
      "text_a: 纳米CT成像三维图像处理固体氧化物燃料电池多孔材料最优阈值算法边缘检测算法\n",
      "text_b: 基于嵌入式系统的人脸识别算法研究及其优化\n",
      "cosine_sim: 0.8110620975494385\n",
      "\n",
      "text_a: 纳米CT成像三维图像处理固体氧化物燃料电池多孔材料最优阈值算法边缘检测算法\n",
      "text_b: 基于TCAD的VDMOS功率器件仿真研究\n",
      "cosine_sim: 0.8280587792396545\n",
      "\n",
      "text_a: 化学实验教学高师学生问题意识教学策略\n",
      "text_b: 在化学实验教学中培养高师学生的问题意识\n",
      "cosine_sim: 0.9426386952400208\n",
      "\n",
      "text_a: 化学实验教学高师学生问题意识教学策略\n",
      "text_b: 职校计算机专业课有效教学的实践研究\n",
      "cosine_sim: 0.8752892017364502\n",
      "\n",
      "text_a: 化学实验教学高师学生问题意识教学策略\n",
      "text_b: 新课程理念下的高中数学分层教学的实践与研究\n",
      "cosine_sim: 0.8467895984649658\n",
      "\n",
      "text_a: 化学实验教学高师学生问题意识教学策略\n",
      "text_b: 信息技术课对提高中学生科学素养的准实验研究\n",
      "cosine_sim: 0.8215961456298828\n",
      "\n",
      "text_a: 化学实验教学高师学生问题意识教学策略\n",
      "text_b: 形象思维理论指导高中物理教学实践的研究\n",
      "cosine_sim: 0.8856571316719055\n",
      "\n",
      "text_a: 化学实验教学高师学生问题意识教学策略\n",
      "text_b: 关于初中生数学归纳能力培养的理论与实践研究\n",
      "cosine_sim: 0.8187754154205322\n",
      "\n",
      "text_a: 化学实验教学高师学生问题意识教学策略\n",
      "text_b: 分层教学在生物教学中的初步探索\n",
      "cosine_sim: 0.8483941555023193\n",
      "\n",
      "text_a: 化学实验教学高师学生问题意识教学策略\n",
      "text_b: 课堂教学资源分配的社会学分析--以乌鲁木齐市民、汉学生同班的班级为例\n",
      "cosine_sim: 0.8132919073104858\n",
      "\n",
      "text_a: 化学实验教学高师学生问题意识教学策略\n",
      "text_b: 班级管理对学习动力影响的研究--中小学班级管理中班委会轮值制的效果分析研究\n",
      "cosine_sim: 0.8132124543190002\n",
      "\n",
      "text_a: 化学实验教学高师学生问题意识教学策略\n",
      "text_b: 目标设置在高三物理教学中应用的研究\n",
      "cosine_sim: 0.8228293061256409\n",
      "\n",
      "text_a: 互联网企业互动问答社区产品盈利模式经营策略商业价值\n",
      "text_b: 互联网互动问答社区产品盈利模式选择研究\n",
      "cosine_sim: 0.9360257983207703\n",
      "\n",
      "text_a: 互联网企业互动问答社区产品盈利模式经营策略商业价值\n",
      "text_b: 移动互联网时代下网易新闻客户端竞争战略研究\n",
      "cosine_sim: 0.7920078039169312\n",
      "\n",
      "text_a: 互联网企业互动问答社区产品盈利模式经营策略商业价值\n",
      "text_b: 浦发银行信用卡产品的营销策略研究\n",
      "cosine_sim: 0.8552781343460083\n",
      "\n",
      "text_a: 互联网企业互动问答社区产品盈利模式经营策略商业价值\n",
      "text_b: 当前我国电视娱乐节目品牌经营的策略研究\n",
      "cosine_sim: 0.8362659811973572\n",
      "\n",
      "text_a: 互联网企业互动问答社区产品盈利模式经营策略商业价值\n",
      "text_b: 服务企业竞争力决定因素与提升策略研究\n",
      "cosine_sim: 0.8129150867462158\n",
      "\n",
      "text_a: 互联网企业互动问答社区产品盈利模式经营策略商业价值\n",
      "text_b: 基于创新的中国广告产业演化研究\n",
      "cosine_sim: 0.7845998406410217\n",
      "\n",
      "text_a: 互联网企业互动问答社区产品盈利模式经营策略商业价值\n",
      "text_b: 高管性别结构、内部制衡与企业技术创新——基于我国创业板上市企业的实证研究\n",
      "cosine_sim: 0.7974117994308472\n",
      "\n",
      "text_a: 互联网企业互动问答社区产品盈利模式经营策略商业价值\n",
      "text_b: 环境扫描对企业竞争优势的影响研究--以电子信息行业为例\n",
      "cosine_sim: 0.7890337705612183\n",
      "\n",
      "text_a: 互联网企业互动问答社区产品盈利模式经营策略商业价值\n",
      "text_b: 高管团队特征对公司绩效的影响——以我国新三板教育行业公司为例\n",
      "cosine_sim: 0.801966667175293\n",
      "\n",
      "text_a: 互联网企业互动问答社区产品盈利模式经营策略商业价值\n",
      "text_b: 国有润滑油企业市场开发策略研究\n",
      "cosine_sim: 0.8292436003684998\n",
      "\n"
     ]
    }
   ],
   "source": [
    "for text_a, text_b_list in text_pairs.items():\n",
    "    text_a_ids = paddle.to_tensor([tokenizer.text_to_ids(text_a)])\n",
    "\n",
    "    for text_b in text_b_list:\n",
    "        text_b_ids = paddle.to_tensor([tokenizer.text_to_ids(text_b)])\n",
    "        print(\"text_a: {}\".format(text_a))\n",
    "        print(\"text_b: {}\".format(text_b))\n",
    "        print(\"cosine_sim: {}\".format(model.get_cos_sim(text_a_ids, text_b_ids).numpy()[0]))\n",
    "        print()"
   ]
  },
  {
   "cell_type": "markdown",
   "metadata": {
    "collapsed": false
   },
   "source": [
    "### 使用VisualDL查看句子向量"
   ]
  },
  {
   "cell_type": "code",
   "execution_count": 19,
   "metadata": {
    "collapsed": false
   },
   "outputs": [],
   "source": [
    "# 引入VisualDL的LogWriter记录日志\n",
    "import numpy as np\n",
    "from visualdl import LogWriter    \n",
    "# 获取句子以及其对应的向量\n",
    "label_list = []\n",
    "embedding_list = []\n",
    "\n",
    "for text_a, text_b_list in text_pairs.items():\n",
    "    text_a_ids = paddle.to_tensor([tokenizer.text_to_ids(text_a)])\n",
    "    embedding_list.append(model(text_a_ids).flatten().numpy())\n",
    "    label_list.append(text_a)\n",
    "\n",
    "    for text_b in text_b_list:\n",
    "        text_b_ids = paddle.to_tensor([tokenizer.text_to_ids(text_b)])\n",
    "        embedding_list.append(model(text_b_ids).flatten().numpy())\n",
    "        label_list.append(text_b)\n",
    "\n",
    "\n",
    "with LogWriter(logdir='./sentence_hidi') as writer:\n",
    "    writer.add_embeddings(tag='test', mat=embedding_list, metadata=label_list)"
   ]
  },
  {
   "cell_type": "markdown",
   "metadata": {
    "collapsed": false
   },
   "source": [
    "### 启动VisualDL观察句子向量降维效果\n",
    "\n",
    "步骤如上述观察词向量降维效果一模一样。\n",
    "![](https://ai-studio-static-online.cdn.bcebos.com/0e876f3cf1724e90a317ad3f4be233a9eb0313b0e92f475b95675c2ad52d3eb0)\n",
    "\n",
    "\n",
    "可以看出，语义相近的句子在句子向量空间中聚集(如有关课堂的句子、有关化学描述句子等)。"
   ]
  },
  {
   "cell_type": "markdown",
   "metadata": {
    "collapsed": false
   },
   "source": [
    "##  作业可视化结果2\n",
    "![](https://ai-studio-static-online.cdn.bcebos.com/e8f816de4cf743f49407deae85cbbada3ff2d0fa3e7440b8953c98bfd7ed6041)\n"
   ]
  },
  {
   "cell_type": "markdown",
   "metadata": {
    "collapsed": false
   },
   "source": [
    "# PaddleNLP更多预训练词向量\n",
    "PaddleNLP提供61种可直接加载的预训练词向量，训练自多领域中英文语料、如百度百科、新闻语料、微博等，覆盖多种经典词向量模型（word2vec、glove、fastText）、涵盖不同维度、不同语料库大小，详见[PaddleNLP Embedding API](https://github.com/PaddlePaddle/PaddleNLP/blob/develop/docs/model_zoo/embeddings.md)。"
   ]
  },
  {
   "cell_type": "markdown",
   "metadata": {
    "collapsed": false
   },
   "source": [
    "# 预训练词向量辅助分类任务\n",
    "\n",
    "想学习词向量更多应用，来试试预训练词向量对分类模型的改善效果吧，[这里](https://aistudio.baidu.com/aistudio/projectdetail/1283423) 试试把`paddle.nn.Embedding`换成刚刚学到的预训练词向量吧。"
   ]
  },
  {
   "cell_type": "markdown",
   "metadata": {
    "collapsed": false
   },
   "source": [
    "# 加入课程交流群，一起学习吧\n",
    "\n",
    "现在就加入课程群，一起交流NLP技术吧！\n",
    "\n",
    "<img src=\"https://ai-studio-static-online.cdn.bcebos.com/d953727af0c24a7c806ab529495f0904f22f809961be420b8c88cdf59b837394\" width=\"200\" height=\"250\" >\n",
    "\n",
    "\n",
    "\n",
    "**[直播链接请戳这里，每晚20:00-21:30👈](http://live.bilibili.com/21689802)**\n",
    "\n",
    "**[还没有报名课程？赶紧戳这里，课程、作业安排统统在课程区哦👉🏻](https://aistudio.baidu.com/aistudio/course/introduce/24177)**"
   ]
  }
 ],
 "metadata": {
  "kernelspec": {
   "display_name": "PaddlePaddle 2.1.0 (Python 3.5)",
   "language": "python",
   "name": "py35-paddle1.2.0"
  },
  "language_info": {
   "codemirror_mode": {
    "name": "ipython",
    "version": 3
   },
   "file_extension": ".py",
   "mimetype": "text/x-python",
   "name": "python",
   "nbconvert_exporter": "python",
   "pygments_lexer": "ipython3",
   "version": "3.7.4"
  }
 },
 "nbformat": 4,
 "nbformat_minor": 1
}
